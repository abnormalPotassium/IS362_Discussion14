{
 "cells": [
  {
   "cell_type": "markdown",
   "metadata": {},
   "source": [
    "# Recommender Systems - YouTube\n",
    "\n",
    "The recommender system that I deal with the most and pretty much rely on is YouTube's autoplay/video recommendation system. I leave all my music needs to YouTube and generally it does me pretty well with what it autoplays and recommends on the dashboard.\n",
    "\n",
    "## Scenario Design Analysis\n",
    "\n",
    "### Target Users\n",
    "\n",
    "The target users of the recommender system of YouTube are those that are watching videos on YouTube. Specifically those that allow videos to autoplay or use the recommended dashboard system. \n",
    "\n",
    "### Key Goals\n",
    "\n",
    "The key goals of YouTube viewers that utilize the recommender system are to get videos recommended to them that they are willing and happy to watch. Basically, the videos should suite the taste of the viewers. It is important to YouTube that these viewers keep watching as well in order to get ad revenue from ads on the videos that the viewers watch. The more videos a viewer watches, the more ads they also view as well generally.\n",
    "\n",
    "### How to Accomplish Key Goals\n",
    "\n",
    "In order to recommend viewers a video that they like it is necessary to figure out what a viewer likes. Collecting data on which videos a user prefers to watch, like, and channels they subscribe to will all be helpful data in order to generate a user's taste profile. Videos also need a way to be classified into fitting different taste profiles. Once these two are achieved that mach a taste profile can be recommended to those of that taste profile. This way the user is recommend videos that they should like in theory.\n",
    "\n",
    "## Reverse Engineering\n",
    "\n",
    "I am actually very familiar with YouTube's recommendation engine because I am constantly trying to game it to both recommend me only music and music of a certain type. The way that YouTube implements their recommendations that is initially apparent to the user is an array of recommended videos when one enters YouTube.com. If one does not have any history on YouTube then popular videos shall be shown instead of specifically tuned recommendations. From this dashboard, the viewer is able to fine tune their recommendations by indicating that they are not interested in a video or that they don't want to be recommended the channel. Indicating that you are not interested leads to less videos fitting the taste profile the video falls under. Meanwhile, selecting to not be recommended a channel does not seem to effect the taste profile and instead just adds a note under the certain viewer that prevents videos from that channel being recommended to them.\n",
    "\n",
    "Recommended videos also are influenced by those that a viewer is subscribed to. If there is a new video of a channel that the viewer is subscribed to which they haven't watched, it has a high likelihood of being placed no the recommended dashboard. The viewing history seems to be what has the most influence on recommended videos though with YouTube more than likely also factoring how long you viewed a video in your history. If you viewed almost all of a video, it is more likely to be added to your taste profile than if you had just clicked in and out of one.\n",
    "\n",
    "The autoplay portion of the recommender system mixes the dashboard recommended system with the taste profile of the current video you are watching and possible relevant videos/sequels to it. If there is a sequel to the video you are watching it will almost always be recommended next. If there is none then it will recommend you relevant videos that are influenced by your taste profile as well.\n",
    "\n",
    "## Recommendations\n",
    "\n",
    "I have to admit that YouTube's recommendation system is a very well put together one. There are many variables that must be considered when putting videos into certain profiles and users. However, I'd say that popular videos are weighted too high in recommendations. I think it would make for a better YouTube experience if the recommendation system put less priority on views. I also believe newly watched videos should be weighted less, if I watch a few videos about learning something without deleting my history suddenly half my recommendations become about that. Finally, what I really think would make the YouTube recommendation system better is more user direct input. Being able to ask to be recommended more videos like certain ones that you watch would be excellent for the user."
   ]
  }
 ],
 "metadata": {
  "kernelspec": {
   "display_name": "Python 3",
   "language": "python",
   "name": "python3"
  },
  "language_info": {
   "codemirror_mode": {
    "name": "ipython",
    "version": 3
   },
   "file_extension": ".py",
   "mimetype": "text/x-python",
   "name": "python",
   "nbconvert_exporter": "python",
   "pygments_lexer": "ipython3",
   "version": "3.7.4"
  }
 },
 "nbformat": 4,
 "nbformat_minor": 4
}
